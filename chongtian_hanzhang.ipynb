{
 "cells": [
  {
   "cell_type": "markdown",
   "id": "434b5d05",
   "metadata": {},
   "source": [
    "# 3D Object Reconstruction and Classification\n"
   ]
  },
  {
   "cell_type": "markdown",
   "id": "ce1824b5",
   "metadata": {},
   "source": [
    "## Dataset Description\n",
    "\n",
    "[ModelNet10.zip](http://3dvision.princeton.edu/projects/2014/3DShapeNets/ModelNet10.zip) is a part of ModelNet40 dataset, containing 4,899 pre-aligned shapes from 10 categories. There are 3,991 (80%) shapes for training and 908 (20%) shapes for testing. The CAD models are in Object File Format (OFF).\n",
    "\n",
    "\n",
    "We provide following scripts to Download and unzip the dataset (the dataset is 2.3 GB, so it may take a while to download):"
   ]
  },
  {
   "cell_type": "code",
   "execution_count": 3,
   "id": "295045e7",
   "metadata": {},
   "outputs": [
    {
     "name": "stdout",
     "output_type": "stream",
     "text": [
      "Dataset already downloaded to: datasets/ModelNet10.zip\n"
     ]
    }
   ],
   "source": [
    "# download the dataset to ./datasets folder and unzip it\n",
    "import urllib.request\n",
    "import zipfile\n",
    "from pathlib import Path\n",
    "\n",
    "# Create datasets directory\n",
    "datasets_dir = Path(\"datasets\")\n",
    "datasets_dir.mkdir(exist_ok=True)\n",
    "\n",
    "# Download the dataset\n",
    "dataset_url = \"http://3dvision.princeton.edu/projects/2014/3DShapeNets/ModelNet10.zip\"\n",
    "zip_path = datasets_dir / \"ModelNet10.zip\"\n",
    "\n",
    "# check if the dataset is already downloaded\n",
    "if zip_path.exists():\n",
    "    print(f\"Dataset already downloaded to: {zip_path}\")\n",
    "else:\n",
    "    print(\"Downloading ModelNet10 dataset...\")\n",
    "    urllib.request.urlretrieve(dataset_url, zip_path)\n",
    "    print(f\"Downloaded to: {zip_path}\")\n",
    "\n",
    "# extract the dataset if not extracted\n",
    "if not (datasets_dir / \"ModelNet10\").exists():\n",
    "    # Extract the dataset\n",
    "    print(\"Extracting dataset...\")\n",
    "    with zipfile.ZipFile(zip_path, 'r') as zip_ref:\n",
    "        zip_ref.extractall(datasets_dir)\n",
    "    print(\"Extraction complete!\")\n",
    "\n",
    "    # List the contents to verify\n",
    "    print(\"\\nDataset contents:\")\n",
    "    for item in datasets_dir.iterdir():\n",
    "        print(f\"  {item.name}\")\n"
   ]
  },
  {
   "cell_type": "markdown",
   "id": "424995d7",
   "metadata": {},
   "source": [
    "## Environment Setup using uv\n",
    "\n",
    "When running this notebook, please run the following command to install the dependencies\n",
    "\n",
    "```bash\n",
    "# install uv if not installed\n",
    "pip install uv\n",
    "# install dependencies\n",
    "uv sync\n",
    "# activate the virtual environment\n",
    ". .venv/bin/activate\n",
    "```"
   ]
  },
  {
   "cell_type": "markdown",
   "id": "863d6357",
   "metadata": {},
   "source": [
    "## Visualize the dataset\n",
    "\n",
    "We use [rerun](https://www.rerun.io/) to visualize the dataset. It might ask permission to download the wasm for interactive visualization."
   ]
  },
  {
   "cell_type": "code",
   "execution_count": 1,
   "id": "b7e23710",
   "metadata": {},
   "outputs": [
    {
     "data": {
      "application/vnd.jupyter.widget-view+json": {
       "model_id": "f1e410cec945459ab8fccb506a3c50de",
       "version_major": 2,
       "version_minor": 0
      },
      "text/plain": [
       "HTML(value='<div id=\"6e270e66-f494-478b-88e1-508f1c18450a\"><style onload=\"eval(atob(\\'KGFzeW5jIGZ1bmN0aW9uICgp…"
      ]
     },
     "metadata": {},
     "output_type": "display_data"
    },
    {
     "data": {
      "application/vnd.jupyter.widget-view+json": {
       "model_id": "d1f74ffee52841b0b648fc42efb86630",
       "version_major": 2,
       "version_minor": 1
      },
      "text/plain": [
       "Viewer()"
      ]
     },
     "metadata": {},
     "output_type": "display_data"
    }
   ],
   "source": [
    "import rerun as rr\n",
    "from numpy.random import default_rng\n",
    "\n",
    "rr.init(\"rerun_example_notebook\")\n",
    "\n",
    "rng = default_rng(12345)\n",
    "\n",
    "positions = rng.uniform(-5, 5, size=[10, 3])\n",
    "colors = rng.uniform(0, 255, size=[10, 3])\n",
    "radii = rng.uniform(0, 1, size=[10])\n",
    "\n",
    "rr.log(\"random\", rr.Points3D(positions, colors=colors, radii=radii))\n",
    "\n",
    "rr.notebook_show()"
   ]
  }
 ],
 "metadata": {
  "kernelspec": {
   "display_name": ".venv",
   "language": "python",
   "name": "python3"
  },
  "language_info": {
   "codemirror_mode": {
    "name": "ipython",
    "version": 3
   },
   "file_extension": ".py",
   "mimetype": "text/x-python",
   "name": "python",
   "nbconvert_exporter": "python",
   "pygments_lexer": "ipython3",
   "version": "3.10.16"
  }
 },
 "nbformat": 4,
 "nbformat_minor": 5
}

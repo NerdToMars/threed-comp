{
 "cells": [
  {
   "cell_type": "markdown",
   "id": "434b5d05",
   "metadata": {},
   "source": [
    "# 3D Object Reconstruction and Classification\n"
   ]
  },
  {
   "cell_type": "markdown",
   "id": "f8c4a9a6",
   "metadata": {},
   "source": [
    "## Colab Environment Setup\n",
    "\n",
    "For the convenience of the submission and the evaluation, we created a repo for the dependencies and low level functions that are used in the notebook. We claim the [threed-comp](https://github.com/NerdToMars/threed-comp) repo is solely written by ourselves.\n",
    "\n",
    "Before running this notebook, please run the following command to install the dependencies"
   ]
  },
  {
   "cell_type": "code",
   "execution_count": 1,
   "id": "f11124d6",
   "metadata": {},
   "outputs": [
    {
     "name": "stdout",
     "output_type": "stream",
     "text": [
      "Running locally - using existing environment\n"
     ]
    }
   ],
   "source": [
    "# clone the repository and install the dependencies if in Colab\n",
    "# Colab Setup - Only runs in Google Colab\n",
    "try:\n",
    "    import google.colab\n",
    "    print(\"Running in Google Colab - setting up environment...\")\n",
    "    \n",
    "    !uv pip install https://github.com/NerdToMars/threed-comp.git --system\n",
    "    \n",
    "    print(\"✓ Repository cloned and dependencies installed!\")\n",
    "    \n",
    "except ImportError:\n",
    "    print(\"Running locally - using existing environment\")\n"
   ]
  },
  {
   "cell_type": "code",
   "execution_count": 2,
   "id": "f844e99e",
   "metadata": {},
   "outputs": [
    {
     "name": "stdout",
     "output_type": "stream",
     "text": [
      "Authors:\n",
      "HUANG chongtian, NTU, Singapore\n",
      "ZHOU hanzhang, NTU, Singapore\n",
      "Description: This project is a assignment project for course MA6514\n"
     ]
    }
   ],
   "source": [
    "import threed_comp as tc\n",
    "tc.print_authors_info()\n"
   ]
  },
  {
   "cell_type": "markdown",
   "id": "ce1824b5",
   "metadata": {},
   "source": [
    "## Dataset Description\n",
    "\n",
    "[ModelNet10.zip](http://3dvision.princeton.edu/projects/2014/3DShapeNets/ModelNet10.zip) is a part of ModelNet40 dataset, containing 4,899 pre-aligned shapes from 10 categories. There are 3,991 (80%) shapes for training and 908 (20%) shapes for testing. The CAD models are in Object File Format (OFF).\n",
    "\n",
    "\n",
    "We provide following scripts to Download and unzip the dataset (the dataset is few GBs, so it may take a while to download):"
   ]
  },
  {
   "cell_type": "code",
   "execution_count": 3,
   "id": "295045e7",
   "metadata": {},
   "outputs": [
    {
     "name": "stdout",
     "output_type": "stream",
     "text": [
      "Dataset already downloaded to: datasets/ModelNet10.zip\n",
      "Using BASE_MODEL_DIR:  datasets/ModelNet10\n"
     ]
    }
   ],
   "source": [
    "# download the dataset to ./datasets folder and unzip it\n",
    "import urllib.request\n",
    "import zipfile\n",
    "from pathlib import Path\n",
    "\n",
    "# Create datasets directory\n",
    "datasets_dir = Path(\"datasets\")\n",
    "datasets_dir.mkdir(exist_ok=True)\n",
    "\n",
    "# Download the dataset\n",
    "dataset_url = \"http://3dvision.princeton.edu/projects/2014/3DShapeNets/ModelNet10.zip\"\n",
    "zip_path = datasets_dir / \"ModelNet10.zip\"\n",
    "\n",
    "# check if the dataset is already downloaded\n",
    "if zip_path.exists():\n",
    "    print(f\"Dataset already downloaded to: {zip_path}\")\n",
    "else:\n",
    "    print(\"Downloading ModelNet10 dataset...\")\n",
    "    urllib.request.urlretrieve(dataset_url, zip_path)\n",
    "    print(f\"Downloaded to: {zip_path}\")\n",
    "\n",
    "# extract the dataset if not extracted\n",
    "if not (datasets_dir / \"ModelNet10\").exists():\n",
    "    # Extract the dataset\n",
    "    print(\"Extracting dataset...\")\n",
    "    with zipfile.ZipFile(zip_path, 'r') as zip_ref:\n",
    "        zip_ref.extractall(datasets_dir)\n",
    "    print(\"Extraction complete!\")\n",
    "\n",
    "    # List the contents to verify\n",
    "    print(\"\\nDataset contents:\")\n",
    "    for item in datasets_dir.iterdir():\n",
    "        print(f\"  {item.name}\")\n",
    "\n",
    "BASE_MODEL_DIR = datasets_dir / \"ModelNet10\"\n",
    "\n",
    "\n",
    "\n",
    "print(\"Using BASE_MODEL_DIR: \", BASE_MODEL_DIR)"
   ]
  },
  {
   "cell_type": "markdown",
   "id": "d150f1a9",
   "metadata": {},
   "source": [
    "### Metadata of the dataset\n",
    "\n",
    "We walk through the BASE_MODEL_DIR and aggregate the folder structure of the dataset, the metadata is stored in the metadata_modelnet10.csv file. We commit the metadata_modelnet10.csv file to the [repository](https://github.com/NerdToMars/threed-comp) and included in the packageto avoid walking through the directories next time. Hence we can directly use the utils.get_modelnet10_metadata() function to get the metadata of the dataset.\n"
   ]
  },
  {
   "cell_type": "code",
   "execution_count": 4,
   "id": "a4b70a89",
   "metadata": {},
   "outputs": [
    {
     "name": "stdout",
     "output_type": "stream",
     "text": [
      "      object_id    class split                    object_path\n",
      "0  bathtub_0107  bathtub  test  bathtub/test/bathtub_0107.off\n",
      "1  bathtub_0108  bathtub  test  bathtub/test/bathtub_0108.off\n",
      "2  bathtub_0109  bathtub  test  bathtub/test/bathtub_0109.off\n",
      "3  bathtub_0110  bathtub  test  bathtub/test/bathtub_0110.off\n",
      "4  bathtub_0111  bathtub  test  bathtub/test/bathtub_0111.off\n"
     ]
    }
   ],
   "source": [
    "import threed_comp.utils as utils\n",
    "\n",
    "# read the metadata of the dataset\n",
    "metadata = utils.get_modelnet10_metadata()\n",
    "print(metadata.head())"
   ]
  },
  {
   "cell_type": "markdown",
   "id": "863d6357",
   "metadata": {},
   "source": [
    "## Visualize the dataset\n",
    "\n",
    "### Format of the 3D data in ModelNet10\n",
    "\n",
    "Object File Format (.off) files are used to represent the geometry of a model by specifying the polygons of the model's surface. The polygons can have any number of vertices.\n",
    "OFF files are all ASCII files beginning with the keyword OFF. The next line states the number of vertices, the number of faces, and the number of edges. The number of edges can be safely ignored.\n",
    "\n",
    "The vertices are listed with x, y, z coordinates, written one per line. After the list of vertices, the faces are listed, with one face per line. For each face, the number of vertices is specified, followed by indices into the list of vertices. See the examples below.\n",
    "\n",
    "Note that earlier versions of the model files had faces with -1 indices into the vertex list. That was due to an error in the conversion program and should be corrected now.\n",
    "```\n",
    "OFF numVertices numFaces numEdges\n",
    "x y z\n",
    "x y z\n",
    "... numVertices like above\n",
    "NVertices v1 v2 v3 ... vN\n",
    "MVertices v1 v2 v3 ... vM\n",
    "... numFaces like above\n",
    "\n",
    "```\n",
    "Note that vertices are numbered starting at 0 (not starting at 1), and that numEdges will always be zero.\n",
    "\n",
    "\n",
    "We use [rerun](https://www.rerun.io/) to visualize the dataset. It might ask permission to download the wasm for interactive visualization."
   ]
  },
  {
   "cell_type": "code",
   "execution_count": 5,
   "id": "f07fe7ec",
   "metadata": {},
   "outputs": [
    {
     "name": "stdout",
     "output_type": "stream",
     "text": [
      "verts.shape: (6171, 3)\n",
      "faces.shape: (7415, 3)\n",
      "(4011, 3)\n"
     ]
    },
    {
     "data": {
      "application/vnd.jupyter.widget-view+json": {
       "model_id": "a34dbb2fdbc64faaa4518e278a7969cd",
       "version_major": 2,
       "version_minor": 0
      },
      "text/plain": [
       "HTML(value='<div id=\"371eab1d-fd5f-4abd-affa-d3b6d82969f2\"><style onload=\"eval(atob(\\'KGFzeW5jIGZ1bmN0aW9uICgp…"
      ]
     },
     "metadata": {},
     "output_type": "display_data"
    },
    {
     "data": {
      "application/vnd.jupyter.widget-view+json": {
       "model_id": "184074b377ab4e92ba81932017af8fe2",
       "version_major": 2,
       "version_minor": 1
      },
      "text/plain": [
       "Viewer()"
      ]
     },
     "metadata": {},
     "output_type": "display_data"
    }
   ],
   "source": [
    "import os\n",
    "import numpy as np\n",
    "import trimesh\n",
    "import rerun as rr\n",
    "\n",
    "\n",
    "# Reading .off file manually\n",
    "def read_off(shape_filename):\n",
    "    with open(os.path.join(BASE_MODEL_DIR, shape_filename), 'r') as file:\n",
    "    \n",
    "        if 'OFF' != file.readline().strip():\n",
    "            raise('Not a valid OFF header')\n",
    "        n_verts, n_faces, __ = tuple([int(s) for s in file.readline().strip().split(' ')])\n",
    "        verts = [[float(s) for s in file.readline().strip().split(' ')] for _ in range(n_verts)]\n",
    "        faces = [[int(s) for s in file.readline().strip().split(' ')][1:] for _ in range(n_faces)]\n",
    "        file.close()\n",
    "        \n",
    "        return np.array(verts), np.array(faces)\n",
    "\n",
    "def calculate_vertex_normals_trimesh(vertices, faces):\n",
    "    \"\"\"\n",
    "    Calculate vertex normals using trimesh\n",
    "    \n",
    "    Args:\n",
    "        vertices: numpy array of shape (n_vertices, 3)\n",
    "        faces: numpy array of shape (n_faces, 3) - triangular faces\n",
    "    \n",
    "    Returns:\n",
    "        vertex_normals: numpy array of shape (n_vertices, 3)\n",
    "    \"\"\"\n",
    "    # Create trimesh mesh\n",
    "    mesh = trimesh.Trimesh(vertices=vertices, faces=faces)\n",
    "    mesh.fix_normals()\n",
    "    \n",
    "    # Get vertex normals\n",
    "    vertex_normals = mesh.vertex_normals\n",
    "    \n",
    "    return vertex_normals\n",
    "\n",
    "\n",
    "# read a sample of the dataset\n",
    "verts, faces = read_off(metadata.iloc[10]['object_path'])\n",
    "print(\"verts.shape:\", verts.shape)\n",
    "print(\"faces.shape:\", faces.shape)\n",
    "\n",
    "# Calculate vertex normals using trimesh\n",
    "vertex_normals = calculate_vertex_normals_trimesh(verts, faces)\n",
    "print(vertex_normals.shape)\n",
    "\n",
    "# Visualize the mesh with vertex normals using rerun\n",
    "rr.init(\"rerun_notebook\")\n",
    "\n",
    "# rerun log mesh\n",
    "rr.log(\"mesh\", rr.Mesh3D(vertex_positions=verts, triangle_indices=faces, vertex_normals=vertex_normals, albedo_factor=[0.1, 0.5, 0.5]))\n",
    "\n",
    "rr.notebook_show()\n"
   ]
  },
  {
   "cell_type": "code",
   "execution_count": null,
   "id": "708637ca",
   "metadata": {},
   "outputs": [],
   "source": []
  }
 ],
 "metadata": {
  "kernelspec": {
   "display_name": ".venv",
   "language": "python",
   "name": "python3"
  },
  "language_info": {
   "codemirror_mode": {
    "name": "ipython",
    "version": 3
   },
   "file_extension": ".py",
   "mimetype": "text/x-python",
   "name": "python",
   "nbconvert_exporter": "python",
   "pygments_lexer": "ipython3",
   "version": "3.10.16"
  }
 },
 "nbformat": 4,
 "nbformat_minor": 5
}
